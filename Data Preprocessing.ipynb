{
 "cells": [
  {
   "cell_type": "markdown",
   "metadata": {},
   "source": [
    "# Data Preprocessing"
   ]
  },
  {
   "cell_type": "code",
   "execution_count": 25,
   "metadata": {},
   "outputs": [],
   "source": [
    "# Importing Some Python Modules\n",
    "import requests\n",
    "import pandas as pd\n",
    "import matplotlib.pyplot as plt\n",
    "import warnings; warnings.simplefilter('ignore')\n",
    "import scipy, itertools, pandas as pd, matplotlib.pyplot as plt, seaborn as sns, numpy as np\n",
    "from scipy import stats\n",
    "from sklearn.preprocessing import StandardScaler, MinMaxScaler\n",
    "\n",
    "plt.style.use('bmh'); sns.set()\n",
    "# url = 'https://raw.githubusercontent.com/taudata-indonesia/eLearning/master/data/price.csv'\n",
    "# res = requests.get(url, allow_redirects=True)\n",
    "# with open('price.csv','wb') as file:\n",
    "#     file.write(res.content)\n",
    "# price = pd.read_csv('price.csv')"
   ]
  },
  {
   "cell_type": "code",
   "execution_count": 2,
   "metadata": {},
   "outputs": [],
   "source": [
    "price = pd.read_csv('price.csv')"
   ]
  },
  {
   "cell_type": "code",
   "execution_count": 3,
   "metadata": {},
   "outputs": [
    {
     "data": {
      "text/html": [
       "<div>\n",
       "<style scoped>\n",
       "    .dataframe tbody tr th:only-of-type {\n",
       "        vertical-align: middle;\n",
       "    }\n",
       "\n",
       "    .dataframe tbody tr th {\n",
       "        vertical-align: top;\n",
       "    }\n",
       "\n",
       "    .dataframe thead th {\n",
       "        text-align: right;\n",
       "    }\n",
       "</style>\n",
       "<table border=\"1\" class=\"dataframe\">\n",
       "  <thead>\n",
       "    <tr style=\"text-align: right;\">\n",
       "      <th></th>\n",
       "      <th>0</th>\n",
       "      <th>1</th>\n",
       "      <th>2</th>\n",
       "      <th>3</th>\n",
       "      <th>4</th>\n",
       "    </tr>\n",
       "  </thead>\n",
       "  <tbody>\n",
       "    <tr>\n",
       "      <th>Observation</th>\n",
       "      <td>1</td>\n",
       "      <td>2</td>\n",
       "      <td>3</td>\n",
       "      <td>4</td>\n",
       "      <td>5</td>\n",
       "    </tr>\n",
       "    <tr>\n",
       "      <th>Dist_Taxi</th>\n",
       "      <td>9796.0</td>\n",
       "      <td>8294.0</td>\n",
       "      <td>11001.0</td>\n",
       "      <td>8301.0</td>\n",
       "      <td>10510.0</td>\n",
       "    </tr>\n",
       "    <tr>\n",
       "      <th>Dist_Market</th>\n",
       "      <td>5250.0</td>\n",
       "      <td>8186.0</td>\n",
       "      <td>14399.0</td>\n",
       "      <td>11188.0</td>\n",
       "      <td>12629.0</td>\n",
       "    </tr>\n",
       "    <tr>\n",
       "      <th>Dist_Hospital</th>\n",
       "      <td>10703.0</td>\n",
       "      <td>12694.0</td>\n",
       "      <td>16991.0</td>\n",
       "      <td>12289.0</td>\n",
       "      <td>13921.0</td>\n",
       "    </tr>\n",
       "    <tr>\n",
       "      <th>Carpet</th>\n",
       "      <td>1659.0</td>\n",
       "      <td>1461.0</td>\n",
       "      <td>1340.0</td>\n",
       "      <td>1451.0</td>\n",
       "      <td>1770.0</td>\n",
       "    </tr>\n",
       "    <tr>\n",
       "      <th>Builtup</th>\n",
       "      <td>1961.0</td>\n",
       "      <td>1752.0</td>\n",
       "      <td>1609.0</td>\n",
       "      <td>1748.0</td>\n",
       "      <td>2111.0</td>\n",
       "    </tr>\n",
       "    <tr>\n",
       "      <th>Parking</th>\n",
       "      <td>Open</td>\n",
       "      <td>Not Provided</td>\n",
       "      <td>Not Provided</td>\n",
       "      <td>Covered</td>\n",
       "      <td>Not Provided</td>\n",
       "    </tr>\n",
       "    <tr>\n",
       "      <th>City_Category</th>\n",
       "      <td>CAT B</td>\n",
       "      <td>CAT B</td>\n",
       "      <td>CAT A</td>\n",
       "      <td>CAT B</td>\n",
       "      <td>CAT B</td>\n",
       "    </tr>\n",
       "    <tr>\n",
       "      <th>Rainfall</th>\n",
       "      <td>530</td>\n",
       "      <td>210</td>\n",
       "      <td>720</td>\n",
       "      <td>620</td>\n",
       "      <td>450</td>\n",
       "    </tr>\n",
       "    <tr>\n",
       "      <th>House_Price</th>\n",
       "      <td>6649000</td>\n",
       "      <td>3982000</td>\n",
       "      <td>5401000</td>\n",
       "      <td>5373000</td>\n",
       "      <td>4662000</td>\n",
       "    </tr>\n",
       "  </tbody>\n",
       "</table>\n",
       "</div>"
      ],
      "text/plain": [
       "                     0             1             2        3             4\n",
       "Observation          1             2             3        4             5\n",
       "Dist_Taxi       9796.0        8294.0       11001.0   8301.0       10510.0\n",
       "Dist_Market     5250.0        8186.0       14399.0  11188.0       12629.0\n",
       "Dist_Hospital  10703.0       12694.0       16991.0  12289.0       13921.0\n",
       "Carpet          1659.0        1461.0        1340.0   1451.0        1770.0\n",
       "Builtup         1961.0        1752.0        1609.0   1748.0        2111.0\n",
       "Parking           Open  Not Provided  Not Provided  Covered  Not Provided\n",
       "City_Category    CAT B         CAT B         CAT A    CAT B         CAT B\n",
       "Rainfall           530           210           720      620           450\n",
       "House_Price    6649000       3982000       5401000  5373000       4662000"
      ]
     },
     "execution_count": 3,
     "metadata": {},
     "output_type": "execute_result"
    }
   ],
   "source": [
    "price.head(5).transpose()"
   ]
  },
  {
   "cell_type": "markdown",
   "metadata": {},
   "source": [
    "Sumber Data: http://byebuyhome.com/\n",
    "### Objective: menemukan harga rumah yang berada di bawah pasaran.\n",
    "- Variable:\n",
    "- Dist_Taxi – distance to nearest taxi stand from the property\n",
    "- Dist_Market – distance to nearest grocery market from the property\n",
    "- Dist_Hospital – distance to nearest hospital from the property\n",
    "- Carpet – carpet area of the property in square feet\n",
    "- Builtup – built-up area of the property in square feet\n",
    "- Parking – type of car parking available with the property\n",
    "- City_Category – categorization of the city based on the size\n",
    "- Rainfall – annual rainfall in the area where property is located\n",
    "- House_Price – price at which the property was sold"
   ]
  },
  {
   "cell_type": "code",
   "execution_count": 4,
   "metadata": {},
   "outputs": [
    {
     "data": {
      "text/plain": [
       "Observation       0\n",
       "Dist_Taxi        13\n",
       "Dist_Market      13\n",
       "Dist_Hospital     1\n",
       "Carpet            8\n",
       "Builtup          15\n",
       "Parking           0\n",
       "City_Category     0\n",
       "Rainfall          0\n",
       "House_Price       0\n",
       "dtype: int64"
      ]
     },
     "execution_count": 4,
     "metadata": {},
     "output_type": "execute_result"
    }
   ],
   "source": [
    "price.isna().sum()"
   ]
  },
  {
   "cell_type": "code",
   "execution_count": 5,
   "metadata": {},
   "outputs": [
    {
     "name": "stdout",
     "output_type": "stream",
     "text": [
      "<class 'pandas.core.frame.DataFrame'>\n"
     ]
    },
    {
     "data": {
      "text/plain": [
       "('baris = ', 936, ', Kolom = ', 10)"
      ]
     },
     "execution_count": 5,
     "metadata": {},
     "output_type": "execute_result"
    }
   ],
   "source": [
    "# Tipe Datanya : DataFrame (df)\n",
    "print(type(price))\n",
    "# Ukuran Data\n",
    "N, P = price.shape\n",
    "'baris = ', N, ', Kolom = ', P"
   ]
  },
  {
   "cell_type": "code",
   "execution_count": 6,
   "metadata": {},
   "outputs": [
    {
     "data": {
      "text/html": [
       "<div>\n",
       "<style scoped>\n",
       "    .dataframe tbody tr th:only-of-type {\n",
       "        vertical-align: middle;\n",
       "    }\n",
       "\n",
       "    .dataframe tbody tr th {\n",
       "        vertical-align: top;\n",
       "    }\n",
       "\n",
       "    .dataframe thead th {\n",
       "        text-align: right;\n",
       "    }\n",
       "</style>\n",
       "<table border=\"1\" class=\"dataframe\">\n",
       "  <thead>\n",
       "    <tr style=\"text-align: right;\">\n",
       "      <th></th>\n",
       "      <th>Observation</th>\n",
       "      <th>Dist_Taxi</th>\n",
       "      <th>Dist_Market</th>\n",
       "      <th>Dist_Hospital</th>\n",
       "      <th>Carpet</th>\n",
       "      <th>Builtup</th>\n",
       "      <th>Parking</th>\n",
       "      <th>City_Category</th>\n",
       "      <th>Rainfall</th>\n",
       "      <th>House_Price</th>\n",
       "    </tr>\n",
       "  </thead>\n",
       "  <tbody>\n",
       "    <tr>\n",
       "      <th>818</th>\n",
       "      <td>819</td>\n",
       "      <td>4035.0</td>\n",
       "      <td>5870.0</td>\n",
       "      <td>10523.0</td>\n",
       "      <td>1975.0</td>\n",
       "      <td>2368.0</td>\n",
       "      <td>Covered</td>\n",
       "      <td>CAT A</td>\n",
       "      <td>450</td>\n",
       "      <td>8683000</td>\n",
       "    </tr>\n",
       "    <tr>\n",
       "      <th>498</th>\n",
       "      <td>499</td>\n",
       "      <td>10452.0</td>\n",
       "      <td>10978.0</td>\n",
       "      <td>16079.0</td>\n",
       "      <td>1836.0</td>\n",
       "      <td>2195.0</td>\n",
       "      <td>Not Provided</td>\n",
       "      <td>CAT C</td>\n",
       "      <td>940</td>\n",
       "      <td>4516000</td>\n",
       "    </tr>\n",
       "    <tr>\n",
       "      <th>809</th>\n",
       "      <td>810</td>\n",
       "      <td>11162.0</td>\n",
       "      <td>17227.0</td>\n",
       "      <td>15805.0</td>\n",
       "      <td>1477.0</td>\n",
       "      <td>1798.0</td>\n",
       "      <td>No Parking</td>\n",
       "      <td>CAT C</td>\n",
       "      <td>850</td>\n",
       "      <td>5982000</td>\n",
       "    </tr>\n",
       "    <tr>\n",
       "      <th>379</th>\n",
       "      <td>380</td>\n",
       "      <td>7281.0</td>\n",
       "      <td>8521.0</td>\n",
       "      <td>13216.0</td>\n",
       "      <td>1571.0</td>\n",
       "      <td>1877.0</td>\n",
       "      <td>Open</td>\n",
       "      <td>CAT B</td>\n",
       "      <td>580</td>\n",
       "      <td>5467000</td>\n",
       "    </tr>\n",
       "    <tr>\n",
       "      <th>395</th>\n",
       "      <td>396</td>\n",
       "      <td>3772.0</td>\n",
       "      <td>6427.0</td>\n",
       "      <td>10119.0</td>\n",
       "      <td>1412.0</td>\n",
       "      <td>1699.0</td>\n",
       "      <td>Open</td>\n",
       "      <td>CAT B</td>\n",
       "      <td>680</td>\n",
       "      <td>3920000</td>\n",
       "    </tr>\n",
       "    <tr>\n",
       "      <th>890</th>\n",
       "      <td>891</td>\n",
       "      <td>10396.0</td>\n",
       "      <td>14997.0</td>\n",
       "      <td>15491.0</td>\n",
       "      <td>1214.0</td>\n",
       "      <td>1455.0</td>\n",
       "      <td>Covered</td>\n",
       "      <td>CAT A</td>\n",
       "      <td>950</td>\n",
       "      <td>8722000</td>\n",
       "    </tr>\n",
       "    <tr>\n",
       "      <th>774</th>\n",
       "      <td>775</td>\n",
       "      <td>7067.0</td>\n",
       "      <td>10289.0</td>\n",
       "      <td>15577.0</td>\n",
       "      <td>1418.0</td>\n",
       "      <td>1699.0</td>\n",
       "      <td>No Parking</td>\n",
       "      <td>CAT B</td>\n",
       "      <td>870</td>\n",
       "      <td>4916000</td>\n",
       "    </tr>\n",
       "    <tr>\n",
       "      <th>160</th>\n",
       "      <td>161</td>\n",
       "      <td>NaN</td>\n",
       "      <td>NaN</td>\n",
       "      <td>13083.0</td>\n",
       "      <td>1544.0</td>\n",
       "      <td>1847.0</td>\n",
       "      <td>Open</td>\n",
       "      <td>CAT B</td>\n",
       "      <td>750</td>\n",
       "      <td>6479000</td>\n",
       "    </tr>\n",
       "    <tr>\n",
       "      <th>434</th>\n",
       "      <td>435</td>\n",
       "      <td>5900.0</td>\n",
       "      <td>10980.0</td>\n",
       "      <td>12617.0</td>\n",
       "      <td>1378.0</td>\n",
       "      <td>1670.0</td>\n",
       "      <td>Covered</td>\n",
       "      <td>CAT C</td>\n",
       "      <td>950</td>\n",
       "      <td>5861000</td>\n",
       "    </tr>\n",
       "    <tr>\n",
       "      <th>521</th>\n",
       "      <td>522</td>\n",
       "      <td>4068.0</td>\n",
       "      <td>7624.0</td>\n",
       "      <td>6764.0</td>\n",
       "      <td>1207.0</td>\n",
       "      <td>1440.0</td>\n",
       "      <td>No Parking</td>\n",
       "      <td>CAT B</td>\n",
       "      <td>500</td>\n",
       "      <td>4384000</td>\n",
       "    </tr>\n",
       "  </tbody>\n",
       "</table>\n",
       "</div>"
      ],
      "text/plain": [
       "     Observation  Dist_Taxi  Dist_Market  Dist_Hospital  Carpet  Builtup  \\\n",
       "818          819     4035.0       5870.0        10523.0  1975.0   2368.0   \n",
       "498          499    10452.0      10978.0        16079.0  1836.0   2195.0   \n",
       "809          810    11162.0      17227.0        15805.0  1477.0   1798.0   \n",
       "379          380     7281.0       8521.0        13216.0  1571.0   1877.0   \n",
       "395          396     3772.0       6427.0        10119.0  1412.0   1699.0   \n",
       "890          891    10396.0      14997.0        15491.0  1214.0   1455.0   \n",
       "774          775     7067.0      10289.0        15577.0  1418.0   1699.0   \n",
       "160          161        NaN          NaN        13083.0  1544.0   1847.0   \n",
       "434          435     5900.0      10980.0        12617.0  1378.0   1670.0   \n",
       "521          522     4068.0       7624.0         6764.0  1207.0   1440.0   \n",
       "\n",
       "          Parking City_Category  Rainfall  House_Price  \n",
       "818       Covered         CAT A       450      8683000  \n",
       "498  Not Provided         CAT C       940      4516000  \n",
       "809    No Parking         CAT C       850      5982000  \n",
       "379          Open         CAT B       580      5467000  \n",
       "395          Open         CAT B       680      3920000  \n",
       "890       Covered         CAT A       950      8722000  \n",
       "774    No Parking         CAT B       870      4916000  \n",
       "160          Open         CAT B       750      6479000  \n",
       "434       Covered         CAT C       950      5861000  \n",
       "521    No Parking         CAT B       500      4384000  "
      ]
     },
     "execution_count": 6,
     "metadata": {},
     "output_type": "execute_result"
    }
   ],
   "source": [
    "# chosen at random\n",
    "price.sample(10)"
   ]
  },
  {
   "cell_type": "code",
   "execution_count": 7,
   "metadata": {},
   "outputs": [
    {
     "data": {
      "text/html": [
       "<div>\n",
       "<style scoped>\n",
       "    .dataframe tbody tr th:only-of-type {\n",
       "        vertical-align: middle;\n",
       "    }\n",
       "\n",
       "    .dataframe tbody tr th {\n",
       "        vertical-align: top;\n",
       "    }\n",
       "\n",
       "    .dataframe thead th {\n",
       "        text-align: right;\n",
       "    }\n",
       "</style>\n",
       "<table border=\"1\" class=\"dataframe\">\n",
       "  <thead>\n",
       "    <tr style=\"text-align: right;\">\n",
       "      <th></th>\n",
       "      <th>Observation</th>\n",
       "      <th>Dist_Taxi</th>\n",
       "      <th>Dist_Market</th>\n",
       "      <th>Dist_Hospital</th>\n",
       "      <th>Carpet</th>\n",
       "      <th>Builtup</th>\n",
       "      <th>Parking</th>\n",
       "      <th>City_Category</th>\n",
       "      <th>Rainfall</th>\n",
       "      <th>House_Price</th>\n",
       "    </tr>\n",
       "  </thead>\n",
       "  <tbody>\n",
       "    <tr>\n",
       "      <th>927</th>\n",
       "      <td>928</td>\n",
       "      <td>12176.0</td>\n",
       "      <td>8518.0</td>\n",
       "      <td>15673.0</td>\n",
       "      <td>1582.0</td>\n",
       "      <td>1910.0</td>\n",
       "      <td>Covered</td>\n",
       "      <td>CAT C</td>\n",
       "      <td>1080</td>\n",
       "      <td>6639000</td>\n",
       "    </tr>\n",
       "    <tr>\n",
       "      <th>928</th>\n",
       "      <td>929</td>\n",
       "      <td>7214.0</td>\n",
       "      <td>8717.0</td>\n",
       "      <td>10553.0</td>\n",
       "      <td>1387.0</td>\n",
       "      <td>1663.0</td>\n",
       "      <td>Open</td>\n",
       "      <td>CAT A</td>\n",
       "      <td>850</td>\n",
       "      <td>8208000</td>\n",
       "    </tr>\n",
       "    <tr>\n",
       "      <th>929</th>\n",
       "      <td>930</td>\n",
       "      <td>7423.0</td>\n",
       "      <td>11708.0</td>\n",
       "      <td>13220.0</td>\n",
       "      <td>1200.0</td>\n",
       "      <td>1436.0</td>\n",
       "      <td>Open</td>\n",
       "      <td>CAT A</td>\n",
       "      <td>1060</td>\n",
       "      <td>7644000</td>\n",
       "    </tr>\n",
       "    <tr>\n",
       "      <th>930</th>\n",
       "      <td>931</td>\n",
       "      <td>15082.0</td>\n",
       "      <td>14700.0</td>\n",
       "      <td>19617.0</td>\n",
       "      <td>1299.0</td>\n",
       "      <td>1560.0</td>\n",
       "      <td>Open</td>\n",
       "      <td>CAT B</td>\n",
       "      <td>770</td>\n",
       "      <td>9661000</td>\n",
       "    </tr>\n",
       "    <tr>\n",
       "      <th>931</th>\n",
       "      <td>932</td>\n",
       "      <td>9297.0</td>\n",
       "      <td>12537.0</td>\n",
       "      <td>14418.0</td>\n",
       "      <td>1174.0</td>\n",
       "      <td>1429.0</td>\n",
       "      <td>Covered</td>\n",
       "      <td>CAT C</td>\n",
       "      <td>1110</td>\n",
       "      <td>5434000</td>\n",
       "    </tr>\n",
       "    <tr>\n",
       "      <th>932</th>\n",
       "      <td>933</td>\n",
       "      <td>10915.0</td>\n",
       "      <td>17486.0</td>\n",
       "      <td>15964.0</td>\n",
       "      <td>1549.0</td>\n",
       "      <td>1851.0</td>\n",
       "      <td>Not Provided</td>\n",
       "      <td>CAT C</td>\n",
       "      <td>1220</td>\n",
       "      <td>7062000</td>\n",
       "    </tr>\n",
       "    <tr>\n",
       "      <th>933</th>\n",
       "      <td>934</td>\n",
       "      <td>9205.0</td>\n",
       "      <td>10418.0</td>\n",
       "      <td>14496.0</td>\n",
       "      <td>1118.0</td>\n",
       "      <td>1337.0</td>\n",
       "      <td>Open</td>\n",
       "      <td>CAT A</td>\n",
       "      <td>560</td>\n",
       "      <td>7227000</td>\n",
       "    </tr>\n",
       "    <tr>\n",
       "      <th>934</th>\n",
       "      <td>935</td>\n",
       "      <td>10915.0</td>\n",
       "      <td>17486.0</td>\n",
       "      <td>15964.0</td>\n",
       "      <td>1549.0</td>\n",
       "      <td>1851.0</td>\n",
       "      <td>Not Provided</td>\n",
       "      <td>CAT C</td>\n",
       "      <td>1220</td>\n",
       "      <td>7062000</td>\n",
       "    </tr>\n",
       "    <tr>\n",
       "      <th>935</th>\n",
       "      <td>936</td>\n",
       "      <td>10915.0</td>\n",
       "      <td>17486.0</td>\n",
       "      <td>15964.0</td>\n",
       "      <td>1549.0</td>\n",
       "      <td>1851.0</td>\n",
       "      <td>Not Provided</td>\n",
       "      <td>CAT C</td>\n",
       "      <td>1220</td>\n",
       "      <td>7062000</td>\n",
       "    </tr>\n",
       "  </tbody>\n",
       "</table>\n",
       "</div>"
      ],
      "text/plain": [
       "     Observation  Dist_Taxi  Dist_Market  Dist_Hospital  Carpet  Builtup  \\\n",
       "927          928    12176.0       8518.0        15673.0  1582.0   1910.0   \n",
       "928          929     7214.0       8717.0        10553.0  1387.0   1663.0   \n",
       "929          930     7423.0      11708.0        13220.0  1200.0   1436.0   \n",
       "930          931    15082.0      14700.0        19617.0  1299.0   1560.0   \n",
       "931          932     9297.0      12537.0        14418.0  1174.0   1429.0   \n",
       "932          933    10915.0      17486.0        15964.0  1549.0   1851.0   \n",
       "933          934     9205.0      10418.0        14496.0  1118.0   1337.0   \n",
       "934          935    10915.0      17486.0        15964.0  1549.0   1851.0   \n",
       "935          936    10915.0      17486.0        15964.0  1549.0   1851.0   \n",
       "\n",
       "          Parking City_Category  Rainfall  House_Price  \n",
       "927       Covered         CAT C      1080      6639000  \n",
       "928          Open         CAT A       850      8208000  \n",
       "929          Open         CAT A      1060      7644000  \n",
       "930          Open         CAT B       770      9661000  \n",
       "931       Covered         CAT C      1110      5434000  \n",
       "932  Not Provided         CAT C      1220      7062000  \n",
       "933          Open         CAT A       560      7227000  \n",
       "934  Not Provided         CAT C      1220      7062000  \n",
       "935  Not Provided         CAT C      1220      7062000  "
      ]
     },
     "execution_count": 7,
     "metadata": {},
     "output_type": "execute_result"
    }
   ],
   "source": [
    "# \"Mengintip\" beberapa data akhirnya\n",
    "price.tail(9)"
   ]
  },
  {
   "cell_type": "code",
   "execution_count": 8,
   "metadata": {},
   "outputs": [
    {
     "data": {
      "text/plain": [
       "Index(['Observation', 'Dist_Taxi', 'Dist_Market', 'Dist_Hospital', 'Carpet',\n",
       "       'Builtup', 'Parking', 'City_Category', 'Rainfall', 'House_Price'],\n",
       "      dtype='object')"
      ]
     },
     "execution_count": 8,
     "metadata": {},
     "output_type": "execute_result"
    }
   ],
   "source": [
    "# perhatikan perintahnya tidak menggunakan tanda \"()\" ==> Properties \n",
    "price.columns"
   ]
  },
  {
   "cell_type": "markdown",
   "metadata": {},
   "source": [
    "### Removing a variable(s)"
   ]
  },
  {
   "cell_type": "code",
   "execution_count": 9,
   "metadata": {},
   "outputs": [],
   "source": [
    "# Drop kolom pertama karena tidak berguna (hanya index)\n",
    "price.drop(\"Observation\", axis=1, inplace=True)"
   ]
  },
  {
   "cell_type": "markdown",
   "metadata": {},
   "source": [
    "### Mengoreksi Tipe variabel"
   ]
  },
  {
   "cell_type": "code",
   "execution_count": 10,
   "metadata": {},
   "outputs": [
    {
     "name": "stdout",
     "output_type": "stream",
     "text": [
      "<class 'pandas.core.frame.DataFrame'>\n",
      "RangeIndex: 936 entries, 0 to 935\n",
      "Data columns (total 9 columns):\n",
      " #   Column         Non-Null Count  Dtype  \n",
      "---  ------         --------------  -----  \n",
      " 0   Dist_Taxi      923 non-null    float64\n",
      " 1   Dist_Market    923 non-null    float64\n",
      " 2   Dist_Hospital  935 non-null    float64\n",
      " 3   Carpet         928 non-null    float64\n",
      " 4   Builtup        921 non-null    float64\n",
      " 5   Parking        936 non-null    object \n",
      " 6   City_Category  936 non-null    object \n",
      " 7   Rainfall       936 non-null    int64  \n",
      " 8   House_Price    936 non-null    int64  \n",
      "dtypes: float64(5), int64(2), object(2)\n",
      "memory usage: 65.9+ KB\n"
     ]
    }
   ],
   "source": [
    "# tipe data di setiap kolom\n",
    "# Wajib di periksa apakah tipe datanya sudah tepat?\n",
    "# Perhatikan df sebagaimana semua variable di Python diperlakukan seperti object\n",
    "price.info()"
   ]
  },
  {
   "cell_type": "code",
   "execution_count": 11,
   "metadata": {},
   "outputs": [
    {
     "data": {
      "text/plain": [
       "Dist_Taxi         float64\n",
       "Dist_Market       float64\n",
       "Dist_Hospital     float64\n",
       "Carpet            float64\n",
       "Builtup           float64\n",
       "Parking          category\n",
       "City_Category    category\n",
       "Rainfall            int64\n",
       "House_Price         int64\n",
       "dtype: object"
      ]
     },
     "execution_count": 11,
     "metadata": {},
     "output_type": "execute_result"
    }
   ],
   "source": [
    "# dataframe types: https://pbpython.com/pandas_dtypes.html\n",
    "price['Parking'] = price['Parking'].astype('category')\n",
    "price['City_Category'] = price['City_Category'].astype('category')\n",
    "price.dtypes"
   ]
  },
  {
   "cell_type": "markdown",
   "metadata": {},
   "source": [
    "### Removing Duplicate Data"
   ]
  },
  {
   "cell_type": "code",
   "execution_count": 12,
   "metadata": {},
   "outputs": [
    {
     "name": "stdout",
     "output_type": "stream",
     "text": [
      "(936, 9)\n"
     ]
    },
    {
     "data": {
      "text/plain": [
       "4"
      ]
     },
     "execution_count": 12,
     "metadata": {},
     "output_type": "execute_result"
    }
   ],
   "source": [
    "#mengecek apakah ada duplikat data?\n",
    "print(price.shape)\n",
    "price.duplicated().sum()"
   ]
  },
  {
   "cell_type": "code",
   "execution_count": 13,
   "metadata": {},
   "outputs": [
    {
     "name": "stdout",
     "output_type": "stream",
     "text": [
      "0\n",
      "(932, 9)\n"
     ]
    }
   ],
   "source": [
    "#menghapus entri yang memiliki data duplikat \n",
    "price.drop_duplicates(inplace=True)\n",
    "print(price.duplicated().sum()) # no more duplicates\n",
    "print(price.shape) # re-check by printing data size"
   ]
  },
  {
   "cell_type": "markdown",
   "metadata": {},
   "source": [
    "### Variable Selection"
   ]
  },
  {
   "cell_type": "code",
   "execution_count": 14,
   "metadata": {},
   "outputs": [
    {
     "data": {
      "text/html": [
       "<div>\n",
       "<style scoped>\n",
       "    .dataframe tbody tr th:only-of-type {\n",
       "        vertical-align: middle;\n",
       "    }\n",
       "\n",
       "    .dataframe tbody tr th {\n",
       "        vertical-align: top;\n",
       "    }\n",
       "\n",
       "    .dataframe thead th {\n",
       "        text-align: right;\n",
       "    }\n",
       "</style>\n",
       "<table border=\"1\" class=\"dataframe\">\n",
       "  <thead>\n",
       "    <tr style=\"text-align: right;\">\n",
       "      <th></th>\n",
       "      <th>Dist_Taxi</th>\n",
       "      <th>Dist_Market</th>\n",
       "      <th>Dist_Hospital</th>\n",
       "      <th>Carpet</th>\n",
       "      <th>Builtup</th>\n",
       "      <th>Rainfall</th>\n",
       "      <th>House_Price</th>\n",
       "    </tr>\n",
       "  </thead>\n",
       "  <tbody>\n",
       "    <tr>\n",
       "      <th>0</th>\n",
       "      <td>9796.0</td>\n",
       "      <td>5250.0</td>\n",
       "      <td>10703.0</td>\n",
       "      <td>1659.0</td>\n",
       "      <td>1961.0</td>\n",
       "      <td>530</td>\n",
       "      <td>6649000</td>\n",
       "    </tr>\n",
       "    <tr>\n",
       "      <th>1</th>\n",
       "      <td>8294.0</td>\n",
       "      <td>8186.0</td>\n",
       "      <td>12694.0</td>\n",
       "      <td>1461.0</td>\n",
       "      <td>1752.0</td>\n",
       "      <td>210</td>\n",
       "      <td>3982000</td>\n",
       "    </tr>\n",
       "    <tr>\n",
       "      <th>2</th>\n",
       "      <td>11001.0</td>\n",
       "      <td>14399.0</td>\n",
       "      <td>16991.0</td>\n",
       "      <td>1340.0</td>\n",
       "      <td>1609.0</td>\n",
       "      <td>720</td>\n",
       "      <td>5401000</td>\n",
       "    </tr>\n",
       "    <tr>\n",
       "      <th>3</th>\n",
       "      <td>8301.0</td>\n",
       "      <td>11188.0</td>\n",
       "      <td>12289.0</td>\n",
       "      <td>1451.0</td>\n",
       "      <td>1748.0</td>\n",
       "      <td>620</td>\n",
       "      <td>5373000</td>\n",
       "    </tr>\n",
       "    <tr>\n",
       "      <th>4</th>\n",
       "      <td>10510.0</td>\n",
       "      <td>12629.0</td>\n",
       "      <td>13921.0</td>\n",
       "      <td>1770.0</td>\n",
       "      <td>2111.0</td>\n",
       "      <td>450</td>\n",
       "      <td>4662000</td>\n",
       "    </tr>\n",
       "  </tbody>\n",
       "</table>\n",
       "</div>"
      ],
      "text/plain": [
       "   Dist_Taxi  Dist_Market  Dist_Hospital  Carpet  Builtup  Rainfall  \\\n",
       "0     9796.0       5250.0        10703.0  1659.0   1961.0       530   \n",
       "1     8294.0       8186.0        12694.0  1461.0   1752.0       210   \n",
       "2    11001.0      14399.0        16991.0  1340.0   1609.0       720   \n",
       "3     8301.0      11188.0        12289.0  1451.0   1748.0       620   \n",
       "4    10510.0      12629.0        13921.0  1770.0   2111.0       450   \n",
       "\n",
       "   House_Price  \n",
       "0      6649000  \n",
       "1      3982000  \n",
       "2      5401000  \n",
       "3      5373000  \n",
       "4      4662000  "
      ]
     },
     "execution_count": 14,
     "metadata": {},
     "output_type": "execute_result"
    }
   ],
   "source": [
    "# Memilih hanya variable dengan tipe tertentu\n",
    "price_num = price.select_dtypes(include = ['float64', 'int64'])\n",
    "price_num.head()\n",
    "# Perhatikan price_num adalah variable df baru! ... (hati-hati di data yang besar)"
   ]
  },
  {
   "cell_type": "code",
   "execution_count": 15,
   "metadata": {},
   "outputs": [
    {
     "data": {
      "text/html": [
       "<div>\n",
       "<style scoped>\n",
       "    .dataframe tbody tr th:only-of-type {\n",
       "        vertical-align: middle;\n",
       "    }\n",
       "\n",
       "    .dataframe tbody tr th {\n",
       "        vertical-align: top;\n",
       "    }\n",
       "\n",
       "    .dataframe thead th {\n",
       "        text-align: right;\n",
       "    }\n",
       "</style>\n",
       "<table border=\"1\" class=\"dataframe\">\n",
       "  <thead>\n",
       "    <tr style=\"text-align: right;\">\n",
       "      <th></th>\n",
       "      <th>Parking</th>\n",
       "      <th>City_Category</th>\n",
       "    </tr>\n",
       "  </thead>\n",
       "  <tbody>\n",
       "    <tr>\n",
       "      <th>0</th>\n",
       "      <td>Open</td>\n",
       "      <td>CAT B</td>\n",
       "    </tr>\n",
       "    <tr>\n",
       "      <th>1</th>\n",
       "      <td>Not Provided</td>\n",
       "      <td>CAT B</td>\n",
       "    </tr>\n",
       "    <tr>\n",
       "      <th>2</th>\n",
       "      <td>Not Provided</td>\n",
       "      <td>CAT A</td>\n",
       "    </tr>\n",
       "    <tr>\n",
       "      <th>3</th>\n",
       "      <td>Covered</td>\n",
       "      <td>CAT B</td>\n",
       "    </tr>\n",
       "    <tr>\n",
       "      <th>4</th>\n",
       "      <td>Not Provided</td>\n",
       "      <td>CAT B</td>\n",
       "    </tr>\n",
       "  </tbody>\n",
       "</table>\n",
       "</div>"
      ],
      "text/plain": [
       "        Parking City_Category\n",
       "0          Open         CAT B\n",
       "1  Not Provided         CAT B\n",
       "2  Not Provided         CAT A\n",
       "3       Covered         CAT B\n",
       "4  Not Provided         CAT B"
      ]
     },
     "execution_count": 15,
     "metadata": {},
     "output_type": "execute_result"
    }
   ],
   "source": [
    "# Memilih hanya variable dengan tipe tertentu\n",
    "price_cat = price.select_dtypes(include = ['category'])\n",
    "price_cat.head()"
   ]
  },
  {
   "cell_type": "markdown",
   "metadata": {},
   "source": [
    "Dasar Pengolahan variabel Kategorik: Dummy Variable"
   ]
  },
  {
   "cell_type": "code",
   "execution_count": 16,
   "metadata": {},
   "outputs": [
    {
     "data": {
      "text/html": [
       "<div>\n",
       "<style scoped>\n",
       "    .dataframe tbody tr th:only-of-type {\n",
       "        vertical-align: middle;\n",
       "    }\n",
       "\n",
       "    .dataframe tbody tr th {\n",
       "        vertical-align: top;\n",
       "    }\n",
       "\n",
       "    .dataframe thead th {\n",
       "        text-align: right;\n",
       "    }\n",
       "</style>\n",
       "<table border=\"1\" class=\"dataframe\">\n",
       "  <thead>\n",
       "    <tr style=\"text-align: right;\">\n",
       "      <th></th>\n",
       "      <th>Park_Covered</th>\n",
       "      <th>Park_No Parking</th>\n",
       "      <th>Park_Not Provided</th>\n",
       "      <th>Park_Open</th>\n",
       "    </tr>\n",
       "  </thead>\n",
       "  <tbody>\n",
       "    <tr>\n",
       "      <th>0</th>\n",
       "      <td>0</td>\n",
       "      <td>0</td>\n",
       "      <td>0</td>\n",
       "      <td>1</td>\n",
       "    </tr>\n",
       "    <tr>\n",
       "      <th>1</th>\n",
       "      <td>0</td>\n",
       "      <td>0</td>\n",
       "      <td>1</td>\n",
       "      <td>0</td>\n",
       "    </tr>\n",
       "    <tr>\n",
       "      <th>2</th>\n",
       "      <td>0</td>\n",
       "      <td>0</td>\n",
       "      <td>1</td>\n",
       "      <td>0</td>\n",
       "    </tr>\n",
       "    <tr>\n",
       "      <th>3</th>\n",
       "      <td>1</td>\n",
       "      <td>0</td>\n",
       "      <td>0</td>\n",
       "      <td>0</td>\n",
       "    </tr>\n",
       "    <tr>\n",
       "      <th>4</th>\n",
       "      <td>0</td>\n",
       "      <td>0</td>\n",
       "      <td>1</td>\n",
       "      <td>0</td>\n",
       "    </tr>\n",
       "  </tbody>\n",
       "</table>\n",
       "</div>"
      ],
      "text/plain": [
       "   Park_Covered  Park_No Parking  Park_Not Provided  Park_Open\n",
       "0             0                0                  0          1\n",
       "1             0                0                  1          0\n",
       "2             0                0                  1          0\n",
       "3             1                0                  0          0\n",
       "4             0                0                  1          0"
      ]
     },
     "execution_count": 16,
     "metadata": {},
     "output_type": "execute_result"
    }
   ],
   "source": [
    "df = pd.get_dummies(price['Parking'], prefix='Park')\n",
    "df.head()"
   ]
  },
  {
   "cell_type": "code",
   "execution_count": 17,
   "metadata": {},
   "outputs": [
    {
     "data": {
      "text/html": [
       "<div>\n",
       "<style scoped>\n",
       "    .dataframe tbody tr th:only-of-type {\n",
       "        vertical-align: middle;\n",
       "    }\n",
       "\n",
       "    .dataframe tbody tr th {\n",
       "        vertical-align: top;\n",
       "    }\n",
       "\n",
       "    .dataframe thead th {\n",
       "        text-align: right;\n",
       "    }\n",
       "</style>\n",
       "<table border=\"1\" class=\"dataframe\">\n",
       "  <thead>\n",
       "    <tr style=\"text-align: right;\">\n",
       "      <th></th>\n",
       "      <th>Dist_Taxi</th>\n",
       "      <th>Dist_Market</th>\n",
       "      <th>Dist_Hospital</th>\n",
       "      <th>Carpet</th>\n",
       "      <th>Builtup</th>\n",
       "      <th>Parking</th>\n",
       "      <th>City_Category</th>\n",
       "      <th>Rainfall</th>\n",
       "      <th>House_Price</th>\n",
       "      <th>Park_Covered</th>\n",
       "      <th>Park_No Parking</th>\n",
       "      <th>Park_Not Provided</th>\n",
       "      <th>Park_Open</th>\n",
       "    </tr>\n",
       "  </thead>\n",
       "  <tbody>\n",
       "    <tr>\n",
       "      <th>0</th>\n",
       "      <td>9796.0</td>\n",
       "      <td>5250.0</td>\n",
       "      <td>10703.0</td>\n",
       "      <td>1659.0</td>\n",
       "      <td>1961.0</td>\n",
       "      <td>Open</td>\n",
       "      <td>CAT B</td>\n",
       "      <td>530</td>\n",
       "      <td>6649000</td>\n",
       "      <td>0</td>\n",
       "      <td>0</td>\n",
       "      <td>0</td>\n",
       "      <td>1</td>\n",
       "    </tr>\n",
       "    <tr>\n",
       "      <th>1</th>\n",
       "      <td>8294.0</td>\n",
       "      <td>8186.0</td>\n",
       "      <td>12694.0</td>\n",
       "      <td>1461.0</td>\n",
       "      <td>1752.0</td>\n",
       "      <td>Not Provided</td>\n",
       "      <td>CAT B</td>\n",
       "      <td>210</td>\n",
       "      <td>3982000</td>\n",
       "      <td>0</td>\n",
       "      <td>0</td>\n",
       "      <td>1</td>\n",
       "      <td>0</td>\n",
       "    </tr>\n",
       "    <tr>\n",
       "      <th>2</th>\n",
       "      <td>11001.0</td>\n",
       "      <td>14399.0</td>\n",
       "      <td>16991.0</td>\n",
       "      <td>1340.0</td>\n",
       "      <td>1609.0</td>\n",
       "      <td>Not Provided</td>\n",
       "      <td>CAT A</td>\n",
       "      <td>720</td>\n",
       "      <td>5401000</td>\n",
       "      <td>0</td>\n",
       "      <td>0</td>\n",
       "      <td>1</td>\n",
       "      <td>0</td>\n",
       "    </tr>\n",
       "    <tr>\n",
       "      <th>3</th>\n",
       "      <td>8301.0</td>\n",
       "      <td>11188.0</td>\n",
       "      <td>12289.0</td>\n",
       "      <td>1451.0</td>\n",
       "      <td>1748.0</td>\n",
       "      <td>Covered</td>\n",
       "      <td>CAT B</td>\n",
       "      <td>620</td>\n",
       "      <td>5373000</td>\n",
       "      <td>1</td>\n",
       "      <td>0</td>\n",
       "      <td>0</td>\n",
       "      <td>0</td>\n",
       "    </tr>\n",
       "    <tr>\n",
       "      <th>4</th>\n",
       "      <td>10510.0</td>\n",
       "      <td>12629.0</td>\n",
       "      <td>13921.0</td>\n",
       "      <td>1770.0</td>\n",
       "      <td>2111.0</td>\n",
       "      <td>Not Provided</td>\n",
       "      <td>CAT B</td>\n",
       "      <td>450</td>\n",
       "      <td>4662000</td>\n",
       "      <td>0</td>\n",
       "      <td>0</td>\n",
       "      <td>1</td>\n",
       "      <td>0</td>\n",
       "    </tr>\n",
       "  </tbody>\n",
       "</table>\n",
       "</div>"
      ],
      "text/plain": [
       "   Dist_Taxi  Dist_Market  Dist_Hospital  Carpet  Builtup       Parking  \\\n",
       "0     9796.0       5250.0        10703.0  1659.0   1961.0          Open   \n",
       "1     8294.0       8186.0        12694.0  1461.0   1752.0  Not Provided   \n",
       "2    11001.0      14399.0        16991.0  1340.0   1609.0  Not Provided   \n",
       "3     8301.0      11188.0        12289.0  1451.0   1748.0       Covered   \n",
       "4    10510.0      12629.0        13921.0  1770.0   2111.0  Not Provided   \n",
       "\n",
       "  City_Category  Rainfall  House_Price  Park_Covered  Park_No Parking  \\\n",
       "0         CAT B       530      6649000             0                0   \n",
       "1         CAT B       210      3982000             0                0   \n",
       "2         CAT A       720      5401000             0                0   \n",
       "3         CAT B       620      5373000             1                0   \n",
       "4         CAT B       450      4662000             0                0   \n",
       "\n",
       "   Park_Not Provided  Park_Open  \n",
       "0                  0          1  \n",
       "1                  1          0  \n",
       "2                  1          0  \n",
       "3                  0          0  \n",
       "4                  1          0  "
      ]
     },
     "execution_count": 17,
     "metadata": {},
     "output_type": "execute_result"
    }
   ],
   "source": [
    "df2 = pd.concat([price, df], axis = 1)\n",
    "df2.head()"
   ]
  },
  {
   "cell_type": "markdown",
   "metadata": {},
   "source": [
    "### Memilih Data Secara Manual"
   ]
  },
  {
   "cell_type": "code",
   "execution_count": 18,
   "metadata": {},
   "outputs": [
    {
     "data": {
      "text/html": [
       "<div>\n",
       "<style scoped>\n",
       "    .dataframe tbody tr th:only-of-type {\n",
       "        vertical-align: middle;\n",
       "    }\n",
       "\n",
       "    .dataframe tbody tr th {\n",
       "        vertical-align: top;\n",
       "    }\n",
       "\n",
       "    .dataframe thead th {\n",
       "        text-align: right;\n",
       "    }\n",
       "</style>\n",
       "<table border=\"1\" class=\"dataframe\">\n",
       "  <thead>\n",
       "    <tr style=\"text-align: right;\">\n",
       "      <th></th>\n",
       "      <th>House_Price</th>\n",
       "      <th>Dist_Market</th>\n",
       "    </tr>\n",
       "  </thead>\n",
       "  <tbody>\n",
       "    <tr>\n",
       "      <th>0</th>\n",
       "      <td>6649000</td>\n",
       "      <td>5250.0</td>\n",
       "    </tr>\n",
       "    <tr>\n",
       "      <th>1</th>\n",
       "      <td>3982000</td>\n",
       "      <td>8186.0</td>\n",
       "    </tr>\n",
       "    <tr>\n",
       "      <th>2</th>\n",
       "      <td>5401000</td>\n",
       "      <td>14399.0</td>\n",
       "    </tr>\n",
       "    <tr>\n",
       "      <th>3</th>\n",
       "      <td>5373000</td>\n",
       "      <td>11188.0</td>\n",
       "    </tr>\n",
       "    <tr>\n",
       "      <th>4</th>\n",
       "      <td>4662000</td>\n",
       "      <td>12629.0</td>\n",
       "    </tr>\n",
       "    <tr>\n",
       "      <th>5</th>\n",
       "      <td>4526000</td>\n",
       "      <td>5142.0</td>\n",
       "    </tr>\n",
       "    <tr>\n",
       "      <th>6</th>\n",
       "      <td>7224000</td>\n",
       "      <td>11869.0</td>\n",
       "    </tr>\n",
       "  </tbody>\n",
       "</table>\n",
       "</div>"
      ],
      "text/plain": [
       "   House_Price  Dist_Market\n",
       "0      6649000       5250.0\n",
       "1      3982000       8186.0\n",
       "2      5401000      14399.0\n",
       "3      5373000      11188.0\n",
       "4      4662000      12629.0\n",
       "5      4526000       5142.0\n",
       "6      7224000      11869.0"
      ]
     },
     "execution_count": 18,
     "metadata": {},
     "output_type": "execute_result"
    }
   ],
   "source": [
    "# Choosing some columns manually\n",
    "X = price[['House_Price','Dist_Market']] \n",
    "X[:7]"
   ]
  },
  {
   "cell_type": "markdown",
   "metadata": {},
   "source": [
    "### Check Noisy Data & Noisy"
   ]
  },
  {
   "cell_type": "markdown",
   "metadata": {},
   "source": [
    "Apakah ada kecenderungan perbedaan harga rumah akibat dari tipe tempat parkir?"
   ]
  },
  {
   "cell_type": "code",
   "execution_count": 19,
   "metadata": {},
   "outputs": [
    {
     "data": {
      "image/png": "[encoded data removed]",
      "text/plain": [
       "<Figure size 500x500 with 1 Axes>"
      ]
     },
     "metadata": {},
     "output_type": "display_data"
    }
   ],
   "source": [
    "p= sns.catplot(x=\"Parking\", y=\"House_Price\", data=price)\n",
    "# Apa yang bisa dilihat dari hasil ini?\n"
   ]
  },
  {
   "cell_type": "markdown",
   "metadata": {},
   "source": [
    "### Outlier atau noise? How to decide?\n",
    "- Univariate Outlier removal\n",
    "- Perlu asumsi \"distribusi\" dari datanya"
   ]
  },
  {
   "cell_type": "code",
   "execution_count": 27,
   "metadata": {},
   "outputs": [
    {
     "data": {
      "image/png": "[encoded data removed]",
      "text/plain": [
       "<Figure size 640x480 with 1 Axes>"
      ]
     },
     "metadata": {},
     "output_type": "display_data"
    }
   ],
   "source": [
    "# Distributions\n",
    "p1 = sns.distplot(price['House_Price'], kde=True, rug=True)\n",
    "plt.show()"
   ]
  },
  {
   "cell_type": "code",
   "execution_count": 21,
   "metadata": {},
   "outputs": [
    {
     "name": "stdout",
     "output_type": "stream",
     "text": [
      "(932,)\n"
     ]
    },
    {
     "data": {
      "text/plain": [
       "0    True\n",
       "1    True\n",
       "2    True\n",
       "3    True\n",
       "4    True\n",
       "Name: House_Price, dtype: bool"
      ]
     },
     "execution_count": 21,
     "metadata": {},
     "output_type": "execute_result"
    }
   ],
   "source": [
    "# Misal dengan asumsi data berdistribusi normal\n",
    "# dan menggunakan 95% confidence interval di sekitar variabel \"harga\"\n",
    "\n",
    "df = np.abs(price.House_Price - price.House_Price.mean())<=(2*price.House_Price.std())\n",
    "# mu-2s<x<mu+2s\n",
    "print(df.shape)\n",
    "df.head()"
   ]
  },
  {
   "cell_type": "code",
   "execution_count": 22,
   "metadata": {},
   "outputs": [
    {
     "name": "stdout",
     "output_type": "stream",
     "text": [
      "(931, 9) (932, 9)\n"
     ]
    }
   ],
   "source": [
    "price2 = price[df] # Data tanpa outliers\n",
    "print(price2.shape, price.shape)"
   ]
  },
  {
   "cell_type": "code",
   "execution_count": 28,
   "metadata": {},
   "outputs": [
    {
     "data": {
      "image/png": "[encoded data removed]",
      "text/plain": [
       "<Figure size 640x480 with 1 Axes>"
      ]
     },
     "metadata": {},
     "output_type": "display_data"
    }
   ],
   "source": [
    "# Distributions\n",
    "p2 = sns.distplot(price2['House_Price'], kde=True, rug=True)\n",
    "plt.show()"
   ]
  },
  {
   "cell_type": "code",
   "execution_count": 33,
   "metadata": {},
   "outputs": [
    {
     "data": {
      "image/png": "[encoded data removed]",
      "text/plain": [
       "<Figure size 500x500 with 1 Axes>"
      ]
     },
     "metadata": {},
     "output_type": "display_data"
    }
   ],
   "source": [
    "p= sns.catplot(x=\"Parking\", y=\"House_Price\", data=price2)\n",
    "plt.show()\n",
    "# Apa yang bisa dilihat dari hasil ini?\n",
    "# Harga rumah tidak mempengaruhi jenis tempat parkir"
   ]
  },
  {
   "attachments": {},
   "cell_type": "markdown",
   "metadata": {},
   "source": [
    "### Missing Values"
   ]
  },
  {
   "cell_type": "code",
   "execution_count": 34,
   "metadata": {},
   "outputs": [
    {
     "name": "stdout",
     "output_type": "stream",
     "text": [
      "Dist_Taxi        13\n",
      "Dist_Market      13\n",
      "Dist_Hospital     1\n",
      "Carpet            8\n",
      "Builtup          15\n",
      "Parking           0\n",
      "City_Category     0\n",
      "Rainfall          0\n",
      "House_Price       0\n",
      "dtype: int64\n"
     ]
    }
   ],
   "source": [
    "# General Look at the Missing Values\n",
    "print(price2.isnull().sum())"
   ]
  },
  {
   "cell_type": "code",
   "execution_count": 35,
   "metadata": {},
   "outputs": [
    {
     "data": {
      "text/plain": [
       "{'Covered', 'No Parking', 'Not Provided', 'Open'}"
      ]
     },
     "execution_count": 35,
     "metadata": {},
     "output_type": "execute_result"
    }
   ],
   "source": [
    "set(price2['Parking'])"
   ]
  },
  {
   "cell_type": "code",
   "execution_count": 36,
   "metadata": {},
   "outputs": [
    {
     "data": {
      "image/png": "[encoded data removed]",
      "text/plain": [
       "<Figure size 640x480 with 1 Axes>"
      ]
     },
     "metadata": {},
     "output_type": "display_data"
    }
   ],
   "source": [
    "# Gambaran yang Lebih baik tentang MV terutama di Big Data\n",
    "sns.heatmap(price2.isnull(), cbar=False)\n",
    "plt.title('Heatmap Missing Value')\n",
    "plt.show()"
   ]
  },
  {
   "cell_type": "code",
   "execution_count": 37,
   "metadata": {},
   "outputs": [
    {
     "data": {
      "text/html": [
       "<div>\n",
       "<style scoped>\n",
       "    .dataframe tbody tr th:only-of-type {\n",
       "        vertical-align: middle;\n",
       "    }\n",
       "\n",
       "    .dataframe tbody tr th {\n",
       "        vertical-align: top;\n",
       "    }\n",
       "\n",
       "    .dataframe thead th {\n",
       "        text-align: right;\n",
       "    }\n",
       "</style>\n",
       "<table border=\"1\" class=\"dataframe\">\n",
       "  <thead>\n",
       "    <tr style=\"text-align: right;\">\n",
       "      <th></th>\n",
       "      <th>persentase missing</th>\n",
       "    </tr>\n",
       "  </thead>\n",
       "  <tbody>\n",
       "    <tr>\n",
       "      <th>Dist_Taxi</th>\n",
       "      <td>0.013963</td>\n",
       "    </tr>\n",
       "    <tr>\n",
       "      <th>Dist_Market</th>\n",
       "      <td>0.013963</td>\n",
       "    </tr>\n",
       "    <tr>\n",
       "      <th>Dist_Hospital</th>\n",
       "      <td>0.001074</td>\n",
       "    </tr>\n",
       "    <tr>\n",
       "      <th>Carpet</th>\n",
       "      <td>0.008593</td>\n",
       "    </tr>\n",
       "    <tr>\n",
       "      <th>Builtup</th>\n",
       "      <td>0.016112</td>\n",
       "    </tr>\n",
       "    <tr>\n",
       "      <th>Parking</th>\n",
       "      <td>0.000000</td>\n",
       "    </tr>\n",
       "    <tr>\n",
       "      <th>City_Category</th>\n",
       "      <td>0.000000</td>\n",
       "    </tr>\n",
       "    <tr>\n",
       "      <th>Rainfall</th>\n",
       "      <td>0.000000</td>\n",
       "    </tr>\n",
       "    <tr>\n",
       "      <th>House_Price</th>\n",
       "      <td>0.000000</td>\n",
       "    </tr>\n",
       "  </tbody>\n",
       "</table>\n",
       "</div>"
      ],
      "text/plain": [
       "               persentase missing\n",
       "Dist_Taxi                0.013963\n",
       "Dist_Market              0.013963\n",
       "Dist_Hospital            0.001074\n",
       "Carpet                   0.008593\n",
       "Builtup                  0.016112\n",
       "Parking                  0.000000\n",
       "City_Category            0.000000\n",
       "Rainfall                 0.000000\n",
       "House_Price              0.000000"
      ]
     },
     "execution_count": 37,
     "metadata": {},
     "output_type": "execute_result"
    }
   ],
   "source": [
    "(price2.isnull().sum()/len(price2)).to_frame('persentase missing')"
   ]
  },
  {
   "cell_type": "code",
   "execution_count": 38,
   "metadata": {},
   "outputs": [],
   "source": [
    "# Simplest solution, if the MV is not a lot\n",
    "# drop rows with missing values : Ada berbagai cara\n",
    "X = price.dropna() # jika ada MV minimal satu di salah satu kolom, maka baris di hapus\n",
    "price2.dropna(how='all') # jika ada MV di semua kolom, maka baris di hapus\n",
    "price2.dropna(thresh=2) # jika ada MV minimal di salah 2 kolom, maka baris di hapus\n",
    "price2.dropna(subset=['Dist_Hospital'])[:7] # jika ada MV minimal satu di salah kolom Dist_Hospital\n",
    "# inplace=True if really really sure\n",
    "price2.dropna(inplace=True)"
   ]
  },
  {
   "cell_type": "code",
   "execution_count": 39,
   "metadata": {},
   "outputs": [
    {
     "name": "stdout",
     "output_type": "stream",
     "text": [
      "Dist_Taxi        0\n",
      "Dist_Market      0\n",
      "Dist_Hospital    0\n",
      "Carpet           0\n",
      "Builtup          0\n",
      "Parking          0\n",
      "City_Category    0\n",
      "Rainfall         0\n",
      "House_Price      0\n",
      "dtype: int64\n"
     ]
    }
   ],
   "source": [
    "print(price2.isnull().sum())"
   ]
  },
  {
   "attachments": {},
   "cell_type": "markdown",
   "metadata": {},
   "source": [
    "### Statistika Deskriptif"
   ]
  },
  {
   "cell_type": "code",
   "execution_count": 40,
   "metadata": {},
   "outputs": [
    {
     "data": {
      "text/html": [
       "<div>\n",
       "<style scoped>\n",
       "    .dataframe tbody tr th:only-of-type {\n",
       "        vertical-align: middle;\n",
       "    }\n",
       "\n",
       "    .dataframe tbody tr th {\n",
       "        vertical-align: top;\n",
       "    }\n",
       "\n",
       "    .dataframe thead th {\n",
       "        text-align: right;\n",
       "    }\n",
       "</style>\n",
       "<table border=\"1\" class=\"dataframe\">\n",
       "  <thead>\n",
       "    <tr style=\"text-align: right;\">\n",
       "      <th></th>\n",
       "      <th>Dist_Taxi</th>\n",
       "      <th>Dist_Market</th>\n",
       "      <th>Dist_Hospital</th>\n",
       "      <th>Carpet</th>\n",
       "      <th>Builtup</th>\n",
       "      <th>Rainfall</th>\n",
       "      <th>House_Price</th>\n",
       "    </tr>\n",
       "  </thead>\n",
       "  <tbody>\n",
       "    <tr>\n",
       "      <th>count</th>\n",
       "      <td>897.000000</td>\n",
       "      <td>897.000000</td>\n",
       "      <td>897.000000</td>\n",
       "      <td>897.000000</td>\n",
       "      <td>897.000000</td>\n",
       "      <td>897.000000</td>\n",
       "      <td>8.970000e+02</td>\n",
       "    </tr>\n",
       "    <tr>\n",
       "      <th>mean</th>\n",
       "      <td>8234.092531</td>\n",
       "      <td>11014.810479</td>\n",
       "      <td>13086.516165</td>\n",
       "      <td>1485.586399</td>\n",
       "      <td>1782.282051</td>\n",
       "      <td>785.340022</td>\n",
       "      <td>5.932165e+06</td>\n",
       "    </tr>\n",
       "    <tr>\n",
       "      <th>std</th>\n",
       "      <td>2526.851636</td>\n",
       "      <td>2528.087365</td>\n",
       "      <td>2567.090681</td>\n",
       "      <td>250.153381</td>\n",
       "      <td>299.795462</td>\n",
       "      <td>266.956895</td>\n",
       "      <td>1.720409e+06</td>\n",
       "    </tr>\n",
       "    <tr>\n",
       "      <th>min</th>\n",
       "      <td>146.000000</td>\n",
       "      <td>1666.000000</td>\n",
       "      <td>3227.000000</td>\n",
       "      <td>775.000000</td>\n",
       "      <td>932.000000</td>\n",
       "      <td>-110.000000</td>\n",
       "      <td>1.492000e+06</td>\n",
       "    </tr>\n",
       "    <tr>\n",
       "      <th>25%</th>\n",
       "      <td>6486.000000</td>\n",
       "      <td>9367.000000</td>\n",
       "      <td>11302.000000</td>\n",
       "      <td>1317.000000</td>\n",
       "      <td>1576.000000</td>\n",
       "      <td>600.000000</td>\n",
       "      <td>4.638000e+06</td>\n",
       "    </tr>\n",
       "    <tr>\n",
       "      <th>50%</th>\n",
       "      <td>8230.000000</td>\n",
       "      <td>11161.000000</td>\n",
       "      <td>13192.000000</td>\n",
       "      <td>1477.000000</td>\n",
       "      <td>1774.000000</td>\n",
       "      <td>780.000000</td>\n",
       "      <td>5.860000e+06</td>\n",
       "    </tr>\n",
       "    <tr>\n",
       "      <th>75%</th>\n",
       "      <td>9963.000000</td>\n",
       "      <td>12675.000000</td>\n",
       "      <td>14860.000000</td>\n",
       "      <td>1653.000000</td>\n",
       "      <td>1985.000000</td>\n",
       "      <td>970.000000</td>\n",
       "      <td>7.183000e+06</td>\n",
       "    </tr>\n",
       "    <tr>\n",
       "      <th>max</th>\n",
       "      <td>16850.000000</td>\n",
       "      <td>18281.000000</td>\n",
       "      <td>22407.000000</td>\n",
       "      <td>2229.000000</td>\n",
       "      <td>2667.000000</td>\n",
       "      <td>1560.000000</td>\n",
       "      <td>1.163200e+07</td>\n",
       "    </tr>\n",
       "  </tbody>\n",
       "</table>\n",
       "</div>"
      ],
      "text/plain": [
       "          Dist_Taxi   Dist_Market  Dist_Hospital       Carpet      Builtup  \\\n",
       "count    897.000000    897.000000     897.000000   897.000000   897.000000   \n",
       "mean    8234.092531  11014.810479   13086.516165  1485.586399  1782.282051   \n",
       "std     2526.851636   2528.087365    2567.090681   250.153381   299.795462   \n",
       "min      146.000000   1666.000000    3227.000000   775.000000   932.000000   \n",
       "25%     6486.000000   9367.000000   11302.000000  1317.000000  1576.000000   \n",
       "50%     8230.000000  11161.000000   13192.000000  1477.000000  1774.000000   \n",
       "75%     9963.000000  12675.000000   14860.000000  1653.000000  1985.000000   \n",
       "max    16850.000000  18281.000000   22407.000000  2229.000000  2667.000000   \n",
       "\n",
       "          Rainfall   House_Price  \n",
       "count   897.000000  8.970000e+02  \n",
       "mean    785.340022  5.932165e+06  \n",
       "std     266.956895  1.720409e+06  \n",
       "min    -110.000000  1.492000e+06  \n",
       "25%     600.000000  4.638000e+06  \n",
       "50%     780.000000  5.860000e+06  \n",
       "75%     970.000000  7.183000e+06  \n",
       "max    1560.000000  1.163200e+07  "
      ]
     },
     "execution_count": 40,
     "metadata": {},
     "output_type": "execute_result"
    }
   ],
   "source": [
    "price2.describe()"
   ]
  },
  {
   "cell_type": "code",
   "execution_count": 41,
   "metadata": {},
   "outputs": [
    {
     "data": {
      "text/html": [
       "<div>\n",
       "<style scoped>\n",
       "    .dataframe tbody tr th:only-of-type {\n",
       "        vertical-align: middle;\n",
       "    }\n",
       "\n",
       "    .dataframe tbody tr th {\n",
       "        vertical-align: top;\n",
       "    }\n",
       "\n",
       "    .dataframe thead th {\n",
       "        text-align: right;\n",
       "    }\n",
       "</style>\n",
       "<table border=\"1\" class=\"dataframe\">\n",
       "  <thead>\n",
       "    <tr style=\"text-align: right;\">\n",
       "      <th></th>\n",
       "      <th>Dist_Taxi</th>\n",
       "      <th>Dist_Market</th>\n",
       "      <th>Dist_Hospital</th>\n",
       "      <th>Carpet</th>\n",
       "      <th>Builtup</th>\n",
       "      <th>Parking</th>\n",
       "      <th>City_Category</th>\n",
       "      <th>Rainfall</th>\n",
       "      <th>House_Price</th>\n",
       "    </tr>\n",
       "  </thead>\n",
       "  <tbody>\n",
       "    <tr>\n",
       "      <th>count</th>\n",
       "      <td>897.000000</td>\n",
       "      <td>897.000000</td>\n",
       "      <td>897.000000</td>\n",
       "      <td>897.000000</td>\n",
       "      <td>897.000000</td>\n",
       "      <td>897</td>\n",
       "      <td>897</td>\n",
       "      <td>897.000000</td>\n",
       "      <td>8.970000e+02</td>\n",
       "    </tr>\n",
       "    <tr>\n",
       "      <th>unique</th>\n",
       "      <td>NaN</td>\n",
       "      <td>NaN</td>\n",
       "      <td>NaN</td>\n",
       "      <td>NaN</td>\n",
       "      <td>NaN</td>\n",
       "      <td>4</td>\n",
       "      <td>3</td>\n",
       "      <td>NaN</td>\n",
       "      <td>NaN</td>\n",
       "    </tr>\n",
       "    <tr>\n",
       "      <th>top</th>\n",
       "      <td>NaN</td>\n",
       "      <td>NaN</td>\n",
       "      <td>NaN</td>\n",
       "      <td>NaN</td>\n",
       "      <td>NaN</td>\n",
       "      <td>Open</td>\n",
       "      <td>CAT B</td>\n",
       "      <td>NaN</td>\n",
       "      <td>NaN</td>\n",
       "    </tr>\n",
       "    <tr>\n",
       "      <th>freq</th>\n",
       "      <td>NaN</td>\n",
       "      <td>NaN</td>\n",
       "      <td>NaN</td>\n",
       "      <td>NaN</td>\n",
       "      <td>NaN</td>\n",
       "      <td>353</td>\n",
       "      <td>347</td>\n",
       "      <td>NaN</td>\n",
       "      <td>NaN</td>\n",
       "    </tr>\n",
       "    <tr>\n",
       "      <th>mean</th>\n",
       "      <td>8234.092531</td>\n",
       "      <td>11014.810479</td>\n",
       "      <td>13086.516165</td>\n",
       "      <td>1485.586399</td>\n",
       "      <td>1782.282051</td>\n",
       "      <td>NaN</td>\n",
       "      <td>NaN</td>\n",
       "      <td>785.340022</td>\n",
       "      <td>5.932165e+06</td>\n",
       "    </tr>\n",
       "    <tr>\n",
       "      <th>std</th>\n",
       "      <td>2526.851636</td>\n",
       "      <td>2528.087365</td>\n",
       "      <td>2567.090681</td>\n",
       "      <td>250.153381</td>\n",
       "      <td>299.795462</td>\n",
       "      <td>NaN</td>\n",
       "      <td>NaN</td>\n",
       "      <td>266.956895</td>\n",
       "      <td>1.720409e+06</td>\n",
       "    </tr>\n",
       "    <tr>\n",
       "      <th>min</th>\n",
       "      <td>146.000000</td>\n",
       "      <td>1666.000000</td>\n",
       "      <td>3227.000000</td>\n",
       "      <td>775.000000</td>\n",
       "      <td>932.000000</td>\n",
       "      <td>NaN</td>\n",
       "      <td>NaN</td>\n",
       "      <td>-110.000000</td>\n",
       "      <td>1.492000e+06</td>\n",
       "    </tr>\n",
       "    <tr>\n",
       "      <th>25%</th>\n",
       "      <td>6486.000000</td>\n",
       "      <td>9367.000000</td>\n",
       "      <td>11302.000000</td>\n",
       "      <td>1317.000000</td>\n",
       "      <td>1576.000000</td>\n",
       "      <td>NaN</td>\n",
       "      <td>NaN</td>\n",
       "      <td>600.000000</td>\n",
       "      <td>4.638000e+06</td>\n",
       "    </tr>\n",
       "    <tr>\n",
       "      <th>50%</th>\n",
       "      <td>8230.000000</td>\n",
       "      <td>11161.000000</td>\n",
       "      <td>13192.000000</td>\n",
       "      <td>1477.000000</td>\n",
       "      <td>1774.000000</td>\n",
       "      <td>NaN</td>\n",
       "      <td>NaN</td>\n",
       "      <td>780.000000</td>\n",
       "      <td>5.860000e+06</td>\n",
       "    </tr>\n",
       "    <tr>\n",
       "      <th>75%</th>\n",
       "      <td>9963.000000</td>\n",
       "      <td>12675.000000</td>\n",
       "      <td>14860.000000</td>\n",
       "      <td>1653.000000</td>\n",
       "      <td>1985.000000</td>\n",
       "      <td>NaN</td>\n",
       "      <td>NaN</td>\n",
       "      <td>970.000000</td>\n",
       "      <td>7.183000e+06</td>\n",
       "    </tr>\n",
       "    <tr>\n",
       "      <th>max</th>\n",
       "      <td>16850.000000</td>\n",
       "      <td>18281.000000</td>\n",
       "      <td>22407.000000</td>\n",
       "      <td>2229.000000</td>\n",
       "      <td>2667.000000</td>\n",
       "      <td>NaN</td>\n",
       "      <td>NaN</td>\n",
       "      <td>1560.000000</td>\n",
       "      <td>1.163200e+07</td>\n",
       "    </tr>\n",
       "  </tbody>\n",
       "</table>\n",
       "</div>"
      ],
      "text/plain": [
       "           Dist_Taxi   Dist_Market  Dist_Hospital       Carpet      Builtup  \\\n",
       "count     897.000000    897.000000     897.000000   897.000000   897.000000   \n",
       "unique           NaN           NaN            NaN          NaN          NaN   \n",
       "top              NaN           NaN            NaN          NaN          NaN   \n",
       "freq             NaN           NaN            NaN          NaN          NaN   \n",
       "mean     8234.092531  11014.810479   13086.516165  1485.586399  1782.282051   \n",
       "std      2526.851636   2528.087365    2567.090681   250.153381   299.795462   \n",
       "min       146.000000   1666.000000    3227.000000   775.000000   932.000000   \n",
       "25%      6486.000000   9367.000000   11302.000000  1317.000000  1576.000000   \n",
       "50%      8230.000000  11161.000000   13192.000000  1477.000000  1774.000000   \n",
       "75%      9963.000000  12675.000000   14860.000000  1653.000000  1985.000000   \n",
       "max     16850.000000  18281.000000   22407.000000  2229.000000  2667.000000   \n",
       "\n",
       "       Parking City_Category     Rainfall   House_Price  \n",
       "count      897           897   897.000000  8.970000e+02  \n",
       "unique       4             3          NaN           NaN  \n",
       "top       Open         CAT B          NaN           NaN  \n",
       "freq       353           347          NaN           NaN  \n",
       "mean       NaN           NaN   785.340022  5.932165e+06  \n",
       "std        NaN           NaN   266.956895  1.720409e+06  \n",
       "min        NaN           NaN  -110.000000  1.492000e+06  \n",
       "25%        NaN           NaN   600.000000  4.638000e+06  \n",
       "50%        NaN           NaN   780.000000  5.860000e+06  \n",
       "75%        NaN           NaN   970.000000  7.183000e+06  \n",
       "max        NaN           NaN  1560.000000  1.163200e+07  "
      ]
     },
     "execution_count": 41,
     "metadata": {},
     "output_type": "execute_result"
    }
   ],
   "source": [
    "# Statistika Sederhana dari data \"Numerik\"-nya\n",
    "price2.describe(include='all')"
   ]
  },
  {
   "cell_type": "code",
   "execution_count": 42,
   "metadata": {},
   "outputs": [
    {
     "data": {
      "text/html": [
       "<div>\n",
       "<style scoped>\n",
       "    .dataframe tbody tr th:only-of-type {\n",
       "        vertical-align: middle;\n",
       "    }\n",
       "\n",
       "    .dataframe tbody tr th {\n",
       "        vertical-align: top;\n",
       "    }\n",
       "\n",
       "    .dataframe thead th {\n",
       "        text-align: right;\n",
       "    }\n",
       "</style>\n",
       "<table border=\"1\" class=\"dataframe\">\n",
       "  <thead>\n",
       "    <tr style=\"text-align: right;\">\n",
       "      <th></th>\n",
       "      <th>Dist_Taxi</th>\n",
       "      <th>Parking</th>\n",
       "    </tr>\n",
       "  </thead>\n",
       "  <tbody>\n",
       "    <tr>\n",
       "      <th>count</th>\n",
       "      <td>919.000000</td>\n",
       "      <td>932</td>\n",
       "    </tr>\n",
       "    <tr>\n",
       "      <th>unique</th>\n",
       "      <td>NaN</td>\n",
       "      <td>4</td>\n",
       "    </tr>\n",
       "    <tr>\n",
       "      <th>top</th>\n",
       "      <td>NaN</td>\n",
       "      <td>Open</td>\n",
       "    </tr>\n",
       "    <tr>\n",
       "      <th>freq</th>\n",
       "      <td>NaN</td>\n",
       "      <td>372</td>\n",
       "    </tr>\n",
       "    <tr>\n",
       "      <th>mean</th>\n",
       "      <td>8229.727965</td>\n",
       "      <td>NaN</td>\n",
       "    </tr>\n",
       "    <tr>\n",
       "      <th>std</th>\n",
       "      <td>2561.985008</td>\n",
       "      <td>NaN</td>\n",
       "    </tr>\n",
       "    <tr>\n",
       "      <th>min</th>\n",
       "      <td>146.000000</td>\n",
       "      <td>NaN</td>\n",
       "    </tr>\n",
       "    <tr>\n",
       "      <th>25%</th>\n",
       "      <td>6476.000000</td>\n",
       "      <td>NaN</td>\n",
       "    </tr>\n",
       "    <tr>\n",
       "      <th>50%</th>\n",
       "      <td>8230.000000</td>\n",
       "      <td>NaN</td>\n",
       "    </tr>\n",
       "    <tr>\n",
       "      <th>75%</th>\n",
       "      <td>9937.000000</td>\n",
       "      <td>NaN</td>\n",
       "    </tr>\n",
       "    <tr>\n",
       "      <th>max</th>\n",
       "      <td>20662.000000</td>\n",
       "      <td>NaN</td>\n",
       "    </tr>\n",
       "  </tbody>\n",
       "</table>\n",
       "</div>"
      ],
      "text/plain": [
       "           Dist_Taxi Parking\n",
       "count     919.000000     932\n",
       "unique           NaN       4\n",
       "top              NaN    Open\n",
       "freq             NaN     372\n",
       "mean     8229.727965     NaN\n",
       "std      2561.985008     NaN\n",
       "min       146.000000     NaN\n",
       "25%      6476.000000     NaN\n",
       "50%      8230.000000     NaN\n",
       "75%      9937.000000     NaN\n",
       "max     20662.000000     NaN"
      ]
     },
     "execution_count": 42,
     "metadata": {},
     "output_type": "execute_result"
    }
   ],
   "source": [
    "# ini adalah parameter tambahan jika kita juga ingin mendapatkan statistik sederhana seluruh datanya\n",
    "# (termasuk data kategorik)\n",
    "price[['Dist_Taxi','Parking']].describe(include='all')"
   ]
  },
  {
   "attachments": {},
   "cell_type": "markdown",
   "metadata": {},
   "source": [
    "### Distribusi nilai pada setiap variabel kategorik"
   ]
  },
  {
   "cell_type": "code",
   "execution_count": 43,
   "metadata": {},
   "outputs": [
    {
     "name": "stdout",
     "output_type": "stream",
     "text": [
      "Parking :  {'Open', 'No Parking', 'Covered', 'Not Provided'}\n",
      "City_Category :  {'CAT A', 'CAT B', 'CAT C'}\n"
     ]
    }
   ],
   "source": [
    "# get all unique values of a variable/column\n",
    "for col in price_cat.columns:\n",
    "    print(col,': ', set(price[col].unique()))"
   ]
  },
  {
   "cell_type": "code",
   "execution_count": 44,
   "metadata": {},
   "outputs": [
    {
     "data": {
      "text/plain": [
       "['Open', 'Not Provided', 'Covered', 'No Parking']\n",
       "Categories (4, object): ['Covered', 'No Parking', 'Not Provided', 'Open']"
      ]
     },
     "execution_count": 44,
     "metadata": {},
     "output_type": "execute_result"
    }
   ],
   "source": [
    "price['Parking'].unique()"
   ]
  },
  {
   "cell_type": "code",
   "execution_count": 45,
   "metadata": {},
   "outputs": [
    {
     "data": {
      "text/plain": [
       "['Dist_Taxi',\n",
       " 'Dist_Market',\n",
       " 'Dist_Hospital',\n",
       " 'Carpet',\n",
       " 'Builtup',\n",
       " 'Rainfall',\n",
       " 'House_Price']"
      ]
     },
     "execution_count": 45,
     "metadata": {},
     "output_type": "execute_result"
    }
   ],
   "source": [
    "# price\n",
    "# Jika yang dibutuhkan memang hanya nama kolom, maka kita bisa melakukan hal ini untuk menghemat penggunaan memory\n",
    "numVar = price.select_dtypes(include = ['float64', 'int64']).columns\n",
    "list(numVar)"
   ]
  },
  {
   "cell_type": "code",
   "execution_count": 47,
   "metadata": {},
   "outputs": [
    {
     "data": {
      "text/plain": [
       "Open            372\n",
       "Not Provided    227\n",
       "Covered         188\n",
       "No Parking      145\n",
       "Name: Parking, dtype: int64"
      ]
     },
     "execution_count": 47,
     "metadata": {},
     "output_type": "execute_result"
    }
   ],
   "source": [
    "# Distribusi tiap data\n",
    "price['Parking'].value_counts()\n",
    "# kita bisa juga visualisasikan informasi ini"
   ]
  },
  {
   "attachments": {},
   "cell_type": "markdown",
   "metadata": {},
   "source": [
    "### Kick-off event EU SocioDigithon 2023"
   ]
  },
  {
   "cell_type": "code",
   "execution_count": 48,
   "metadata": {},
   "outputs": [
    {
     "data": {
      "text/html": [
       "<div>\n",
       "<style scoped>\n",
       "    .dataframe tbody tr th:only-of-type {\n",
       "        vertical-align: middle;\n",
       "    }\n",
       "\n",
       "    .dataframe tbody tr th {\n",
       "        vertical-align: top;\n",
       "    }\n",
       "\n",
       "    .dataframe thead th {\n",
       "        text-align: right;\n",
       "    }\n",
       "</style>\n",
       "<table border=\"1\" class=\"dataframe\">\n",
       "  <thead>\n",
       "    <tr style=\"text-align: right;\">\n",
       "      <th>Parking</th>\n",
       "      <th>Covered</th>\n",
       "      <th>No Parking</th>\n",
       "      <th>Not Provided</th>\n",
       "      <th>Open</th>\n",
       "    </tr>\n",
       "    <tr>\n",
       "      <th>City_Category</th>\n",
       "      <th></th>\n",
       "      <th></th>\n",
       "      <th></th>\n",
       "      <th></th>\n",
       "    </tr>\n",
       "  </thead>\n",
       "  <tbody>\n",
       "    <tr>\n",
       "      <th>CAT A</th>\n",
       "      <td>72</td>\n",
       "      <td>50</td>\n",
       "      <td>80</td>\n",
       "      <td>115</td>\n",
       "    </tr>\n",
       "    <tr>\n",
       "      <th>CAT B</th>\n",
       "      <td>59</td>\n",
       "      <td>51</td>\n",
       "      <td>88</td>\n",
       "      <td>149</td>\n",
       "    </tr>\n",
       "    <tr>\n",
       "      <th>CAT C</th>\n",
       "      <td>49</td>\n",
       "      <td>40</td>\n",
       "      <td>55</td>\n",
       "      <td>89</td>\n",
       "    </tr>\n",
       "  </tbody>\n",
       "</table>\n",
       "</div>"
      ],
      "text/plain": [
       "Parking        Covered  No Parking  Not Provided  Open\n",
       "City_Category                                         \n",
       "CAT A               72          50            80   115\n",
       "CAT B               59          51            88   149\n",
       "CAT C               49          40            55    89"
      ]
     },
     "execution_count": 48,
     "metadata": {},
     "output_type": "execute_result"
    }
   ],
   "source": [
    "CT = pd.crosstab(index=price2[\"City_Category\"], columns=price2[\"Parking\"])\n",
    "CT"
   ]
  },
  {
   "attachments": {},
   "cell_type": "markdown",
   "metadata": {},
   "source": [
    "#### Data Grouping"
   ]
  },
  {
   "cell_type": "code",
   "execution_count": 49,
   "metadata": {},
   "outputs": [
    {
     "data": {
      "text/html": [
       "<div>\n",
       "<style scoped>\n",
       "    .dataframe tbody tr th:only-of-type {\n",
       "        vertical-align: middle;\n",
       "    }\n",
       "\n",
       "    .dataframe tbody tr th {\n",
       "        vertical-align: top;\n",
       "    }\n",
       "\n",
       "    .dataframe thead th {\n",
       "        text-align: right;\n",
       "    }\n",
       "</style>\n",
       "<table border=\"1\" class=\"dataframe\">\n",
       "  <thead>\n",
       "    <tr style=\"text-align: right;\">\n",
       "      <th></th>\n",
       "      <th>Dist_Taxi</th>\n",
       "      <th>Dist_Market</th>\n",
       "      <th>Dist_Hospital</th>\n",
       "      <th>Carpet</th>\n",
       "      <th>Builtup</th>\n",
       "      <th>Rainfall</th>\n",
       "      <th>House_Price</th>\n",
       "    </tr>\n",
       "  </thead>\n",
       "  <tbody>\n",
       "    <tr>\n",
       "      <th>count</th>\n",
       "      <td>347.000000</td>\n",
       "      <td>347.000000</td>\n",
       "      <td>347.000000</td>\n",
       "      <td>347.000000</td>\n",
       "      <td>347.000000</td>\n",
       "      <td>347.000000</td>\n",
       "      <td>3.470000e+02</td>\n",
       "    </tr>\n",
       "    <tr>\n",
       "      <th>mean</th>\n",
       "      <td>8079.703170</td>\n",
       "      <td>10693.945245</td>\n",
       "      <td>12855.314121</td>\n",
       "      <td>1500.380403</td>\n",
       "      <td>1799.806916</td>\n",
       "      <td>780.259366</td>\n",
       "      <td>5.520006e+06</td>\n",
       "    </tr>\n",
       "    <tr>\n",
       "      <th>std</th>\n",
       "      <td>2475.693863</td>\n",
       "      <td>2534.441833</td>\n",
       "      <td>2588.293527</td>\n",
       "      <td>252.359775</td>\n",
       "      <td>301.620757</td>\n",
       "      <td>260.422493</td>\n",
       "      <td>1.324843e+06</td>\n",
       "    </tr>\n",
       "    <tr>\n",
       "      <th>min</th>\n",
       "      <td>604.000000</td>\n",
       "      <td>4950.000000</td>\n",
       "      <td>4922.000000</td>\n",
       "      <td>869.000000</td>\n",
       "      <td>1050.000000</td>\n",
       "      <td>0.000000</td>\n",
       "      <td>2.130000e+06</td>\n",
       "    </tr>\n",
       "    <tr>\n",
       "      <th>25%</th>\n",
       "      <td>6400.500000</td>\n",
       "      <td>8891.000000</td>\n",
       "      <td>11088.500000</td>\n",
       "      <td>1317.000000</td>\n",
       "      <td>1577.500000</td>\n",
       "      <td>590.000000</td>\n",
       "      <td>4.613500e+06</td>\n",
       "    </tr>\n",
       "    <tr>\n",
       "      <th>50%</th>\n",
       "      <td>7998.000000</td>\n",
       "      <td>10711.000000</td>\n",
       "      <td>12950.000000</td>\n",
       "      <td>1487.000000</td>\n",
       "      <td>1787.000000</td>\n",
       "      <td>770.000000</td>\n",
       "      <td>5.438000e+06</td>\n",
       "    </tr>\n",
       "    <tr>\n",
       "      <th>75%</th>\n",
       "      <td>9794.000000</td>\n",
       "      <td>12535.000000</td>\n",
       "      <td>14685.000000</td>\n",
       "      <td>1688.000000</td>\n",
       "      <td>2023.500000</td>\n",
       "      <td>950.000000</td>\n",
       "      <td>6.369000e+06</td>\n",
       "    </tr>\n",
       "    <tr>\n",
       "      <th>max</th>\n",
       "      <td>15082.000000</td>\n",
       "      <td>17101.000000</td>\n",
       "      <td>19617.000000</td>\n",
       "      <td>2214.000000</td>\n",
       "      <td>2647.000000</td>\n",
       "      <td>1560.000000</td>\n",
       "      <td>9.661000e+06</td>\n",
       "    </tr>\n",
       "  </tbody>\n",
       "</table>\n",
       "</div>"
      ],
      "text/plain": [
       "          Dist_Taxi   Dist_Market  Dist_Hospital       Carpet      Builtup  \\\n",
       "count    347.000000    347.000000     347.000000   347.000000   347.000000   \n",
       "mean    8079.703170  10693.945245   12855.314121  1500.380403  1799.806916   \n",
       "std     2475.693863   2534.441833    2588.293527   252.359775   301.620757   \n",
       "min      604.000000   4950.000000    4922.000000   869.000000  1050.000000   \n",
       "25%     6400.500000   8891.000000   11088.500000  1317.000000  1577.500000   \n",
       "50%     7998.000000  10711.000000   12950.000000  1487.000000  1787.000000   \n",
       "75%     9794.000000  12535.000000   14685.000000  1688.000000  2023.500000   \n",
       "max    15082.000000  17101.000000   19617.000000  2214.000000  2647.000000   \n",
       "\n",
       "          Rainfall   House_Price  \n",
       "count   347.000000  3.470000e+02  \n",
       "mean    780.259366  5.520006e+06  \n",
       "std     260.422493  1.324843e+06  \n",
       "min       0.000000  2.130000e+06  \n",
       "25%     590.000000  4.613500e+06  \n",
       "50%     770.000000  5.438000e+06  \n",
       "75%     950.000000  6.369000e+06  \n",
       "max    1560.000000  9.661000e+06  "
      ]
     },
     "execution_count": 49,
     "metadata": {},
     "output_type": "execute_result"
    }
   ],
   "source": [
    "# Slicing DataFrame - Just like query in SQL\n",
    "price2[price2[\"City_Category\"] == \"CAT B\"].describe()\n",
    "# Bisa ditambahkan .drop(\"Parking\", axis=1) untuk menghilangkan kolom dengan single value"
   ]
  },
  {
   "attachments": {},
   "cell_type": "markdown",
   "metadata": {},
   "source": [
    "### Saving (preprocessed) Data"
   ]
  },
  {
   "cell_type": "code",
   "execution_count": 51,
   "metadata": {},
   "outputs": [],
   "source": [
    "# Saving the preprocessed Data for future use/analysis\n",
    "price2.to_csv(\"D:\\DATA_ANALYST\\Investasi_properti/price_PreProcessed.csv\", encoding='utf8')"
   ]
  }
 ],
 "metadata": {
  "kernelspec": {
   "display_name": "Python 3 (ipykernel)",
   "language": "python",
   "name": "python3"
  },
  "language_info": {
   "codemirror_mode": {
    "name": "ipython",
    "version": 3
   },
   "file_extension": ".py",
   "mimetype": "text/x-python",
   "name": "python",
   "nbconvert_exporter": "python",
   "pygments_lexer": "ipython3",
   "version": "3.9.13"
  }
 },
 "nbformat": 4,
 "nbformat_minor": 2
}
